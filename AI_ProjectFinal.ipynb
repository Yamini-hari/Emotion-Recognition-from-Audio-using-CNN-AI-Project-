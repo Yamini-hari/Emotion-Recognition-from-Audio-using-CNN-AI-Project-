{
 "cells": [
  {
   "cell_type": "code",
   "execution_count": 1,
   "id": "bdacc086-5ff6-4c65-b2fe-fc1c186f1000",
   "metadata": {},
   "outputs": [
    {
     "name": "stdout",
     "output_type": "stream",
     "text": [
      "Requirement already satisfied: librosa in ./opt/anaconda3/envs/AI_EmotionRecognition/lib/python3.8/site-packages (0.10.2.post1)\n",
      "Requirement already satisfied: audioread>=2.1.9 in ./opt/anaconda3/envs/AI_EmotionRecognition/lib/python3.8/site-packages (from librosa) (3.0.1)\n",
      "Requirement already satisfied: numpy!=1.22.0,!=1.22.1,!=1.22.2,>=1.20.3 in ./opt/anaconda3/envs/AI_EmotionRecognition/lib/python3.8/site-packages (from librosa) (1.24.4)\n",
      "Requirement already satisfied: scipy>=1.2.0 in ./opt/anaconda3/envs/AI_EmotionRecognition/lib/python3.8/site-packages (from librosa) (1.10.1)\n",
      "Requirement already satisfied: scikit-learn>=0.20.0 in ./opt/anaconda3/envs/AI_EmotionRecognition/lib/python3.8/site-packages (from librosa) (1.3.2)\n",
      "Requirement already satisfied: joblib>=0.14 in ./opt/anaconda3/envs/AI_EmotionRecognition/lib/python3.8/site-packages (from librosa) (1.4.2)\n",
      "Requirement already satisfied: decorator>=4.3.0 in ./opt/anaconda3/envs/AI_EmotionRecognition/lib/python3.8/site-packages (from librosa) (5.1.1)\n",
      "Requirement already satisfied: numba>=0.51.0 in ./opt/anaconda3/envs/AI_EmotionRecognition/lib/python3.8/site-packages (from librosa) (0.58.1)\n",
      "Requirement already satisfied: soundfile>=0.12.1 in ./opt/anaconda3/envs/AI_EmotionRecognition/lib/python3.8/site-packages (from librosa) (0.12.1)\n",
      "Requirement already satisfied: pooch>=1.1 in ./opt/anaconda3/envs/AI_EmotionRecognition/lib/python3.8/site-packages (from librosa) (1.8.2)\n",
      "Requirement already satisfied: soxr>=0.3.2 in ./opt/anaconda3/envs/AI_EmotionRecognition/lib/python3.8/site-packages (from librosa) (0.3.7)\n",
      "Requirement already satisfied: typing-extensions>=4.1.1 in ./opt/anaconda3/envs/AI_EmotionRecognition/lib/python3.8/site-packages (from librosa) (4.11.0)\n",
      "Requirement already satisfied: lazy-loader>=0.1 in ./opt/anaconda3/envs/AI_EmotionRecognition/lib/python3.8/site-packages (from librosa) (0.4)\n",
      "Requirement already satisfied: msgpack>=1.0 in ./opt/anaconda3/envs/AI_EmotionRecognition/lib/python3.8/site-packages (from librosa) (1.0.8)\n",
      "Requirement already satisfied: packaging in ./opt/anaconda3/envs/AI_EmotionRecognition/lib/python3.8/site-packages (from lazy-loader>=0.1->librosa) (23.2)\n",
      "Requirement already satisfied: llvmlite<0.42,>=0.41.0dev0 in ./opt/anaconda3/envs/AI_EmotionRecognition/lib/python3.8/site-packages (from numba>=0.51.0->librosa) (0.41.1)\n",
      "Requirement already satisfied: importlib-metadata in ./opt/anaconda3/envs/AI_EmotionRecognition/lib/python3.8/site-packages (from numba>=0.51.0->librosa) (7.0.1)\n",
      "Requirement already satisfied: platformdirs>=2.5.0 in ./opt/anaconda3/envs/AI_EmotionRecognition/lib/python3.8/site-packages (from pooch>=1.1->librosa) (3.10.0)\n",
      "Requirement already satisfied: requests>=2.19.0 in ./opt/anaconda3/envs/AI_EmotionRecognition/lib/python3.8/site-packages (from pooch>=1.1->librosa) (2.32.2)\n",
      "Requirement already satisfied: threadpoolctl>=2.0.0 in ./opt/anaconda3/envs/AI_EmotionRecognition/lib/python3.8/site-packages (from scikit-learn>=0.20.0->librosa) (3.5.0)\n",
      "Requirement already satisfied: cffi>=1.0 in ./opt/anaconda3/envs/AI_EmotionRecognition/lib/python3.8/site-packages (from soundfile>=0.12.1->librosa) (1.16.0)\n",
      "Requirement already satisfied: pycparser in ./opt/anaconda3/envs/AI_EmotionRecognition/lib/python3.8/site-packages (from cffi>=1.0->soundfile>=0.12.1->librosa) (2.21)\n",
      "Requirement already satisfied: charset-normalizer<4,>=2 in ./opt/anaconda3/envs/AI_EmotionRecognition/lib/python3.8/site-packages (from requests>=2.19.0->pooch>=1.1->librosa) (2.0.4)\n",
      "Requirement already satisfied: idna<4,>=2.5 in ./opt/anaconda3/envs/AI_EmotionRecognition/lib/python3.8/site-packages (from requests>=2.19.0->pooch>=1.1->librosa) (3.7)\n",
      "Requirement already satisfied: urllib3<3,>=1.21.1 in ./opt/anaconda3/envs/AI_EmotionRecognition/lib/python3.8/site-packages (from requests>=2.19.0->pooch>=1.1->librosa) (2.2.2)\n",
      "Requirement already satisfied: certifi>=2017.4.17 in ./opt/anaconda3/envs/AI_EmotionRecognition/lib/python3.8/site-packages (from requests>=2.19.0->pooch>=1.1->librosa) (2024.6.2)\n",
      "Requirement already satisfied: zipp>=0.5 in ./opt/anaconda3/envs/AI_EmotionRecognition/lib/python3.8/site-packages (from importlib-metadata->numba>=0.51.0->librosa) (3.17.0)\n",
      "Requirement already satisfied: torch in ./opt/anaconda3/envs/AI_EmotionRecognition/lib/python3.8/site-packages (2.2.2)\n",
      "Requirement already satisfied: filelock in ./opt/anaconda3/envs/AI_EmotionRecognition/lib/python3.8/site-packages (from torch) (3.15.4)\n",
      "Requirement already satisfied: typing-extensions>=4.8.0 in ./opt/anaconda3/envs/AI_EmotionRecognition/lib/python3.8/site-packages (from torch) (4.11.0)\n",
      "Requirement already satisfied: sympy in ./opt/anaconda3/envs/AI_EmotionRecognition/lib/python3.8/site-packages (from torch) (1.12.1)\n",
      "Requirement already satisfied: networkx in ./opt/anaconda3/envs/AI_EmotionRecognition/lib/python3.8/site-packages (from torch) (3.1)\n",
      "Requirement already satisfied: jinja2 in ./opt/anaconda3/envs/AI_EmotionRecognition/lib/python3.8/site-packages (from torch) (3.1.4)\n",
      "Requirement already satisfied: fsspec in ./opt/anaconda3/envs/AI_EmotionRecognition/lib/python3.8/site-packages (from torch) (2024.6.1)\n",
      "Requirement already satisfied: MarkupSafe>=2.0 in ./opt/anaconda3/envs/AI_EmotionRecognition/lib/python3.8/site-packages (from jinja2->torch) (2.1.3)\n",
      "Requirement already satisfied: mpmath<1.4.0,>=1.1.0 in ./opt/anaconda3/envs/AI_EmotionRecognition/lib/python3.8/site-packages (from sympy->torch) (1.3.0)\n",
      "Requirement already satisfied: torchaudio in ./opt/anaconda3/envs/AI_EmotionRecognition/lib/python3.8/site-packages (2.2.2)\n",
      "Requirement already satisfied: torch==2.2.2 in ./opt/anaconda3/envs/AI_EmotionRecognition/lib/python3.8/site-packages (from torchaudio) (2.2.2)\n",
      "Requirement already satisfied: filelock in ./opt/anaconda3/envs/AI_EmotionRecognition/lib/python3.8/site-packages (from torch==2.2.2->torchaudio) (3.15.4)\n",
      "Requirement already satisfied: typing-extensions>=4.8.0 in ./opt/anaconda3/envs/AI_EmotionRecognition/lib/python3.8/site-packages (from torch==2.2.2->torchaudio) (4.11.0)\n",
      "Requirement already satisfied: sympy in ./opt/anaconda3/envs/AI_EmotionRecognition/lib/python3.8/site-packages (from torch==2.2.2->torchaudio) (1.12.1)\n",
      "Requirement already satisfied: networkx in ./opt/anaconda3/envs/AI_EmotionRecognition/lib/python3.8/site-packages (from torch==2.2.2->torchaudio) (3.1)\n",
      "Requirement already satisfied: jinja2 in ./opt/anaconda3/envs/AI_EmotionRecognition/lib/python3.8/site-packages (from torch==2.2.2->torchaudio) (3.1.4)\n",
      "Requirement already satisfied: fsspec in ./opt/anaconda3/envs/AI_EmotionRecognition/lib/python3.8/site-packages (from torch==2.2.2->torchaudio) (2024.6.1)\n",
      "Requirement already satisfied: MarkupSafe>=2.0 in ./opt/anaconda3/envs/AI_EmotionRecognition/lib/python3.8/site-packages (from jinja2->torch==2.2.2->torchaudio) (2.1.3)\n",
      "Requirement already satisfied: mpmath<1.4.0,>=1.1.0 in ./opt/anaconda3/envs/AI_EmotionRecognition/lib/python3.8/site-packages (from sympy->torch==2.2.2->torchaudio) (1.3.0)\n",
      "Requirement already satisfied: matplotlib in ./opt/anaconda3/envs/AI_EmotionRecognition/lib/python3.8/site-packages (3.7.5)\n",
      "Requirement already satisfied: contourpy>=1.0.1 in ./opt/anaconda3/envs/AI_EmotionRecognition/lib/python3.8/site-packages (from matplotlib) (1.1.1)\n",
      "Requirement already satisfied: cycler>=0.10 in ./opt/anaconda3/envs/AI_EmotionRecognition/lib/python3.8/site-packages (from matplotlib) (0.12.1)\n",
      "Requirement already satisfied: fonttools>=4.22.0 in ./opt/anaconda3/envs/AI_EmotionRecognition/lib/python3.8/site-packages (from matplotlib) (4.53.0)\n",
      "Requirement already satisfied: kiwisolver>=1.0.1 in ./opt/anaconda3/envs/AI_EmotionRecognition/lib/python3.8/site-packages (from matplotlib) (1.4.5)\n",
      "Requirement already satisfied: numpy<2,>=1.20 in ./opt/anaconda3/envs/AI_EmotionRecognition/lib/python3.8/site-packages (from matplotlib) (1.24.4)\n",
      "Requirement already satisfied: packaging>=20.0 in ./opt/anaconda3/envs/AI_EmotionRecognition/lib/python3.8/site-packages (from matplotlib) (23.2)\n",
      "Requirement already satisfied: pillow>=6.2.0 in ./opt/anaconda3/envs/AI_EmotionRecognition/lib/python3.8/site-packages (from matplotlib) (10.4.0)\n",
      "Requirement already satisfied: pyparsing>=2.3.1 in ./opt/anaconda3/envs/AI_EmotionRecognition/lib/python3.8/site-packages (from matplotlib) (3.1.2)\n",
      "Requirement already satisfied: python-dateutil>=2.7 in ./opt/anaconda3/envs/AI_EmotionRecognition/lib/python3.8/site-packages (from matplotlib) (2.9.0.post0)\n",
      "Requirement already satisfied: importlib-resources>=3.2.0 in ./opt/anaconda3/envs/AI_EmotionRecognition/lib/python3.8/site-packages (from matplotlib) (6.1.1)\n",
      "Requirement already satisfied: zipp>=3.1.0 in ./opt/anaconda3/envs/AI_EmotionRecognition/lib/python3.8/site-packages (from importlib-resources>=3.2.0->matplotlib) (3.17.0)\n",
      "Requirement already satisfied: six>=1.5 in ./opt/anaconda3/envs/AI_EmotionRecognition/lib/python3.8/site-packages (from python-dateutil>=2.7->matplotlib) (1.16.0)\n",
      "Requirement already satisfied: numpy in ./opt/anaconda3/envs/AI_EmotionRecognition/lib/python3.8/site-packages (1.24.4)\n",
      "Requirement already satisfied: tqdm in ./opt/anaconda3/envs/AI_EmotionRecognition/lib/python3.8/site-packages (4.66.4)\n",
      "Requirement already satisfied: tensorboard in ./opt/anaconda3/envs/AI_EmotionRecognition/lib/python3.8/site-packages (2.14.0)\n",
      "Requirement already satisfied: absl-py>=0.4 in ./opt/anaconda3/envs/AI_EmotionRecognition/lib/python3.8/site-packages (from tensorboard) (2.1.0)\n",
      "Requirement already satisfied: grpcio>=1.48.2 in ./opt/anaconda3/envs/AI_EmotionRecognition/lib/python3.8/site-packages (from tensorboard) (1.64.1)\n",
      "Requirement already satisfied: google-auth<3,>=1.6.3 in ./opt/anaconda3/envs/AI_EmotionRecognition/lib/python3.8/site-packages (from tensorboard) (2.30.0)\n",
      "Requirement already satisfied: google-auth-oauthlib<1.1,>=0.5 in ./opt/anaconda3/envs/AI_EmotionRecognition/lib/python3.8/site-packages (from tensorboard) (1.0.0)\n",
      "Requirement already satisfied: markdown>=2.6.8 in ./opt/anaconda3/envs/AI_EmotionRecognition/lib/python3.8/site-packages (from tensorboard) (3.6)\n",
      "Requirement already satisfied: numpy>=1.12.0 in ./opt/anaconda3/envs/AI_EmotionRecognition/lib/python3.8/site-packages (from tensorboard) (1.24.4)\n",
      "Requirement already satisfied: protobuf>=3.19.6 in ./opt/anaconda3/envs/AI_EmotionRecognition/lib/python3.8/site-packages (from tensorboard) (5.27.2)\n",
      "Requirement already satisfied: requests<3,>=2.21.0 in ./opt/anaconda3/envs/AI_EmotionRecognition/lib/python3.8/site-packages (from tensorboard) (2.32.2)\n",
      "Requirement already satisfied: setuptools>=41.0.0 in ./opt/anaconda3/envs/AI_EmotionRecognition/lib/python3.8/site-packages (from tensorboard) (69.5.1)\n",
      "Requirement already satisfied: tensorboard-data-server<0.8.0,>=0.7.0 in ./opt/anaconda3/envs/AI_EmotionRecognition/lib/python3.8/site-packages (from tensorboard) (0.7.2)\n",
      "Requirement already satisfied: werkzeug>=1.0.1 in ./opt/anaconda3/envs/AI_EmotionRecognition/lib/python3.8/site-packages (from tensorboard) (3.0.3)\n",
      "Requirement already satisfied: wheel>=0.26 in ./opt/anaconda3/envs/AI_EmotionRecognition/lib/python3.8/site-packages (from tensorboard) (0.43.0)\n",
      "Requirement already satisfied: cachetools<6.0,>=2.0.0 in ./opt/anaconda3/envs/AI_EmotionRecognition/lib/python3.8/site-packages (from google-auth<3,>=1.6.3->tensorboard) (5.3.3)\n",
      "Requirement already satisfied: pyasn1-modules>=0.2.1 in ./opt/anaconda3/envs/AI_EmotionRecognition/lib/python3.8/site-packages (from google-auth<3,>=1.6.3->tensorboard) (0.4.0)\n",
      "Requirement already satisfied: rsa<5,>=3.1.4 in ./opt/anaconda3/envs/AI_EmotionRecognition/lib/python3.8/site-packages (from google-auth<3,>=1.6.3->tensorboard) (4.9)\n",
      "Requirement already satisfied: requests-oauthlib>=0.7.0 in ./opt/anaconda3/envs/AI_EmotionRecognition/lib/python3.8/site-packages (from google-auth-oauthlib<1.1,>=0.5->tensorboard) (2.0.0)\n",
      "Requirement already satisfied: importlib-metadata>=4.4 in ./opt/anaconda3/envs/AI_EmotionRecognition/lib/python3.8/site-packages (from markdown>=2.6.8->tensorboard) (7.0.1)\n",
      "Requirement already satisfied: charset-normalizer<4,>=2 in ./opt/anaconda3/envs/AI_EmotionRecognition/lib/python3.8/site-packages (from requests<3,>=2.21.0->tensorboard) (2.0.4)\n",
      "Requirement already satisfied: idna<4,>=2.5 in ./opt/anaconda3/envs/AI_EmotionRecognition/lib/python3.8/site-packages (from requests<3,>=2.21.0->tensorboard) (3.7)\n",
      "Requirement already satisfied: urllib3<3,>=1.21.1 in ./opt/anaconda3/envs/AI_EmotionRecognition/lib/python3.8/site-packages (from requests<3,>=2.21.0->tensorboard) (2.2.2)\n",
      "Requirement already satisfied: certifi>=2017.4.17 in ./opt/anaconda3/envs/AI_EmotionRecognition/lib/python3.8/site-packages (from requests<3,>=2.21.0->tensorboard) (2024.6.2)\n",
      "Requirement already satisfied: MarkupSafe>=2.1.1 in ./opt/anaconda3/envs/AI_EmotionRecognition/lib/python3.8/site-packages (from werkzeug>=1.0.1->tensorboard) (2.1.3)\n",
      "Requirement already satisfied: zipp>=0.5 in ./opt/anaconda3/envs/AI_EmotionRecognition/lib/python3.8/site-packages (from importlib-metadata>=4.4->markdown>=2.6.8->tensorboard) (3.17.0)\n",
      "Requirement already satisfied: pyasn1<0.7.0,>=0.4.6 in ./opt/anaconda3/envs/AI_EmotionRecognition/lib/python3.8/site-packages (from pyasn1-modules>=0.2.1->google-auth<3,>=1.6.3->tensorboard) (0.6.0)\n",
      "Requirement already satisfied: oauthlib>=3.0.0 in ./opt/anaconda3/envs/AI_EmotionRecognition/lib/python3.8/site-packages (from requests-oauthlib>=0.7.0->google-auth-oauthlib<1.1,>=0.5->tensorboard) (3.2.2)\n"
     ]
    }
   ],
   "source": [
    "!pip install librosa\n",
    "!pip install torch\n",
    "!pip install torchaudio\n",
    "!pip install matplotlib\n",
    "!pip install numpy\n",
    "!pip install tqdm\n",
    "!pip install tensorboard"
   ]
  },
  {
   "cell_type": "code",
   "execution_count": 2,
   "id": "683a4071-1760-4ed6-9e53-d319d90de0ec",
   "metadata": {},
   "outputs": [],
   "source": [
    "import os\n",
    "import random\n",
    "import numpy as np\n",
    "import torch\n",
    "import torchaudio\n",
    "import librosa\n",
    "import matplotlib.pyplot as plt\n",
    "from torch.utils.data import Dataset, DataLoader\n",
    "from torch import nn, optim\n",
    "import torch.nn.functional as F\n",
    "from sklearn.model_selection import train_test_split\n",
    "from tqdm import tqdm\n",
    "from torch.utils.tensorboard import SummaryWriter\n",
    "\n",
    "# Helper functions\n",
    "def list_files(dataset_path):\n",
    "    files = []\n",
    "    for root, dirs, filenames in os.walk(dataset_path):\n",
    "        for filename in filenames:\n",
    "            if filename.endswith(\".wav\"):\n",
    "                files.append(os.path.join(root, filename))\n",
    "    return files\n",
    "\n",
    "def parse_filename(filename):\n",
    "    parts = filename.split('-')\n",
    "    emotion = int(parts[2]) - 1  # 0-based emotion\n",
    "    return {\n",
    "        'modality': int(parts[0]),\n",
    "        'vocal_channel': int(parts[1]),\n",
    "        'emotion': emotion,  \n",
    "        'intensity': int(parts[3]),\n",
    "        'statement': int(parts[4]),\n",
    "        'repetition': int(parts[5]),\n",
    "        'actor': int(parts[6].split('.')[0])\n",
    "    }\n",
    "\n",
    "def preprocess_audio(signal, sr=22050, n_mels=128, n_fft=2048, hop_length=512):\n",
    "    mel_spectrogram = librosa.feature.melspectrogram(y=signal, sr=sr, n_mels=n_mels, n_fft=n_fft, hop_length=hop_length)\n",
    "    mel_spectrogram_db = librosa.power_to_db(mel_spectrogram, ref=np.max)\n",
    "    return mel_spectrogram_db\n",
    "\n",
    "class MelSpectrogramTransform:\n",
    "    def __call__(self, signal):\n",
    "        return preprocess_audio(signal)\n",
    "\n",
    "class AugmentedMelSpectrogramTransform:\n",
    "    def __call__(self, signal):\n",
    "        signal = preprocess_audio(signal)\n",
    "        \n",
    "        # Random time shift\n",
    "        if random.random() > 0.5:\n",
    "            signal = np.roll(signal, shift=random.randint(-5, 5), axis=1)\n",
    "        \n",
    "        # Random noise\n",
    "        if random.random() > 0.5:\n",
    "            noise = np.random.randn(*signal.shape) * 0.01\n",
    "            signal = signal + noise\n",
    "        \n",
    "        return signal\n"
   ]
  },
  {
   "cell_type": "code",
   "execution_count": 3,
   "id": "91b5e4fc-6167-45b8-a2c9-22bdba7016e7",
   "metadata": {},
   "outputs": [],
   "source": [
    "class RAVDESSDataset(Dataset):\n",
    "    def __init__(self, file_list, transform=None, max_len=200):\n",
    "        self.file_list = file_list\n",
    "        self.transform = transform\n",
    "        self.max_len = max_len\n",
    "\n",
    "    def __len__(self):\n",
    "        return len(self.file_list)\n",
    "\n",
    "    def __getitem__(self, idx):\n",
    "        file_path = self.file_list[idx]\n",
    "        label = parse_filename(os.path.basename(file_path))['emotion']\n",
    "        \n",
    "        signal, sr = librosa.load(file_path, sr=22050)\n",
    "        \n",
    "        if self.transform:\n",
    "            signal = self.transform(signal)\n",
    "        \n",
    "        if signal.shape[1] < self.max_len:\n",
    "            pad_width = self.max_len - signal.shape[1]\n",
    "            signal = np.pad(signal, ((0, 0), (0, pad_width)), mode='constant')\n",
    "        else:\n",
    "            signal = signal[:, :self.max_len]\n",
    "        \n",
    "        return signal, label\n",
    "\n",
    "def collate_fn(batch):\n",
    "    signals, labels = zip(*batch)\n",
    "    \n",
    "    max_len = max(signal.shape[1] for signal in signals)\n",
    "    \n",
    "    padded_signals = []\n",
    "    for signal in signals:\n",
    "        pad_width = max_len - signal.shape[1]\n",
    "        padded_signal = np.pad(signal, ((0, 0), (0, pad_width)), mode='constant')\n",
    "        padded_signals.append(padded_signal)\n",
    "    \n",
    "    signals_array = np.array(padded_signals)\n",
    "    \n",
    "    signals_tensor = torch.tensor(signals_array)\n",
    "    labels_tensor = torch.tensor(labels)\n",
    "    \n",
    "    return signals_tensor, labels_tensor\n",
    "\n",
    "DATASET_PATH = \"/Users/yamini/Desktop/RAVDESS Dataset\"\n",
    "files = list_files(DATASET_PATH)\n",
    "train_files, test_files = train_test_split(files, test_size=0.2, random_state=42)\n",
    "\n",
    "train_dataset = RAVDESSDataset(train_files, transform=AugmentedMelSpectrogramTransform())\n",
    "test_dataset = RAVDESSDataset(test_files, transform=MelSpectrogramTransform())\n",
    "\n",
    "train_loader = DataLoader(train_dataset, batch_size=32, shuffle=True, collate_fn=collate_fn)\n",
    "test_loader = DataLoader(test_dataset, batch_size=32, shuffle=False, collate_fn=collate_fn)\n"
   ]
  },
  {
   "cell_type": "code",
   "execution_count": 4,
   "id": "62d80603-4a5a-4d36-ada7-e696f2a805ae",
   "metadata": {},
   "outputs": [],
   "source": [
    "class EmotionCNN(nn.Module):\n",
    "    def __init__(self):\n",
    "        super(EmotionCNN, self).__init__()\n",
    "        self.conv1 = nn.Conv2d(1, 16, kernel_size=3, stride=1, padding=1)\n",
    "        self.pool = nn.MaxPool2d(kernel_size=2, stride=2, padding=0)\n",
    "        self.conv2 = nn.Conv2d(16, 32, kernel_size=3, stride=1, padding=1)\n",
    "        \n",
    "        # Placeholder value for the input size to the first fully connected layer\n",
    "        self.fc_input_size = 32 * 32 * 45  # This will be recalculated dynamically\n",
    "        self.fc1 = nn.Linear(self.fc_input_size, 128)\n",
    "        self.fc2 = nn.Linear(128, 8)  # 8 emotions\n",
    "\n",
    "        self.dropout = nn.Dropout(0.5)\n",
    "\n",
    "    def forward(self, x):\n",
    "        x = self.pool(F.relu(self.conv1(x)))\n",
    "        x = self.pool(F.relu(self.conv2(x)))\n",
    "        \n",
    "        x = x.view(x.size(0), -1)  \n",
    "        \n",
    "        x = self.dropout(F.relu(self.fc1(x)))\n",
    "        x = self.fc2(x)\n",
    "        return x\n",
    "\n",
    "    def _get_fc_input_size(self, shape):\n",
    "        x = torch.rand(shape)\n",
    "        x = self.pool(F.relu(self.conv1(x)))\n",
    "        x = self.pool(F.relu(self.conv2(x)))\n",
    "        return x.view(x.size(0), -1).size(1)\n",
    "\n",
    "model = EmotionCNN()\n",
    "\n",
    "dummy_input = (1, 1, 128, 200)  # (batch_size, channels, height, width)\n",
    "model.fc_input_size = model._get_fc_input_size(dummy_input)\n",
    "\n",
    "model.fc1 = nn.Linear(model.fc_input_size, 128)\n"
   ]
  },
  {
   "cell_type": "code",
   "execution_count": 5,
   "id": "d8c49d0a-5a47-412d-9773-4f5b8b4f21de",
   "metadata": {},
   "outputs": [
    {
     "name": "stderr",
     "output_type": "stream",
     "text": [
      "Epoch 1/20: 100%|██████████| 36/36 [00:23<00:00,  1.51it/s, accuracy=16.6, loss=20.3]\n"
     ]
    },
    {
     "name": "stdout",
     "output_type": "stream",
     "text": [
      "Epoch 1, Loss: 20.298580716053646, Train Accuracy: 16.57986111111111%, Test Accuracy: 17.01388888888889%, Test Loss: 2.037488659222921\n"
     ]
    },
    {
     "name": "stderr",
     "output_type": "stream",
     "text": [
      "Epoch 2/20: 100%|██████████| 36/36 [00:22<00:00,  1.59it/s, accuracy=19.8, loss=2.01]\n"
     ]
    },
    {
     "name": "stdout",
     "output_type": "stream",
     "text": [
      "Epoch 2, Loss: 2.0103587408860526, Train Accuracy: 19.791666666666668%, Test Accuracy: 22.569444444444443%, Test Loss: 1.9580413500467937\n"
     ]
    },
    {
     "name": "stderr",
     "output_type": "stream",
     "text": [
      "Epoch 3/20: 100%|██████████| 36/36 [00:22<00:00,  1.63it/s, accuracy=26.1, loss=1.93]\n"
     ]
    },
    {
     "name": "stdout",
     "output_type": "stream",
     "text": [
      "Epoch 3, Loss: 1.929817732837465, Train Accuracy: 26.12847222222222%, Test Accuracy: 26.041666666666668%, Test Loss: 1.871175315645006\n"
     ]
    },
    {
     "name": "stderr",
     "output_type": "stream",
     "text": [
      "Epoch 4/20: 100%|██████████| 36/36 [00:22<00:00,  1.62it/s, accuracy=28.7, loss=1.82]\n"
     ]
    },
    {
     "name": "stdout",
     "output_type": "stream",
     "text": [
      "Epoch 4, Loss: 1.8219381637043424, Train Accuracy: 28.73263888888889%, Test Accuracy: 29.166666666666668%, Test Loss: 1.8555386596255832\n"
     ]
    },
    {
     "name": "stderr",
     "output_type": "stream",
     "text": [
      "Epoch 5/20: 100%|██████████| 36/36 [00:22<00:00,  1.62it/s, accuracy=37.1, loss=1.71]\n"
     ]
    },
    {
     "name": "stdout",
     "output_type": "stream",
     "text": [
      "Epoch 5, Loss: 1.7087168991565704, Train Accuracy: 37.06597222222222%, Test Accuracy: 34.72222222222222%, Test Loss: 1.7836908896764119\n"
     ]
    },
    {
     "name": "stderr",
     "output_type": "stream",
     "text": [
      "Epoch 6/20: 100%|██████████| 36/36 [00:26<00:00,  1.37it/s, accuracy=39.8, loss=1.58]\n"
     ]
    },
    {
     "name": "stdout",
     "output_type": "stream",
     "text": [
      "Epoch 6, Loss: 1.5769667393631406, Train Accuracy: 39.84375%, Test Accuracy: 37.15277777777778%, Test Loss: 1.6431416140662298\n"
     ]
    },
    {
     "name": "stderr",
     "output_type": "stream",
     "text": [
      "Epoch 7/20: 100%|██████████| 36/36 [00:22<00:00,  1.57it/s, accuracy=49.1, loss=1.43]\n"
     ]
    },
    {
     "name": "stdout",
     "output_type": "stream",
     "text": [
      "Epoch 7, Loss: 1.4318016866842906, Train Accuracy: 49.13194444444444%, Test Accuracy: 41.666666666666664%, Test Loss: 1.649079852634006\n"
     ]
    },
    {
     "name": "stderr",
     "output_type": "stream",
     "text": [
      "Epoch 8/20: 100%|██████████| 36/36 [00:22<00:00,  1.61it/s, accuracy=51.2, loss=1.34]\n"
     ]
    },
    {
     "name": "stdout",
     "output_type": "stream",
     "text": [
      "Epoch 8, Loss: 1.3368320299519434, Train Accuracy: 51.21527777777778%, Test Accuracy: 41.31944444444444%, Test Loss: 1.5841015312406752\n"
     ]
    },
    {
     "name": "stderr",
     "output_type": "stream",
     "text": [
      "Epoch 9/20: 100%|██████████| 36/36 [00:22<00:00,  1.57it/s, accuracy=54.3, loss=1.26]\n"
     ]
    },
    {
     "name": "stdout",
     "output_type": "stream",
     "text": [
      "Epoch 9, Loss: 1.2591962698433135, Train Accuracy: 54.34027777777778%, Test Accuracy: 47.22222222222222%, Test Loss: 1.526467416021559\n"
     ]
    },
    {
     "name": "stderr",
     "output_type": "stream",
     "text": [
      "Epoch 10/20: 100%|██████████| 36/36 [00:22<00:00,  1.57it/s, accuracy=57.4, loss=1.16]\n"
     ]
    },
    {
     "name": "stdout",
     "output_type": "stream",
     "text": [
      "Epoch 10, Loss: 1.1580837650431528, Train Accuracy: 57.37847222222222%, Test Accuracy: 47.22222222222222%, Test Loss: 1.4705270263883803\n"
     ]
    },
    {
     "name": "stderr",
     "output_type": "stream",
     "text": [
      "Epoch 11/20: 100%|██████████| 36/36 [00:22<00:00,  1.61it/s, accuracy=60.2, loss=1.09]\n"
     ]
    },
    {
     "name": "stdout",
     "output_type": "stream",
     "text": [
      "Epoch 11, Loss: 1.091469527946578, Train Accuracy: 60.15625%, Test Accuracy: 48.958333333333336%, Test Loss: 1.4374260902404785\n"
     ]
    },
    {
     "name": "stderr",
     "output_type": "stream",
     "text": [
      "Epoch 12/20: 100%|██████████| 36/36 [00:23<00:00,  1.56it/s, accuracy=62.8, loss=1.01] \n"
     ]
    },
    {
     "name": "stdout",
     "output_type": "stream",
     "text": [
      "Epoch 12, Loss: 1.0122155762381024, Train Accuracy: 62.760416666666664%, Test Accuracy: 51.041666666666664%, Test Loss: 1.4041551351547241\n"
     ]
    },
    {
     "name": "stderr",
     "output_type": "stream",
     "text": [
      "Epoch 13/20: 100%|██████████| 36/36 [00:24<00:00,  1.49it/s, accuracy=67.9, loss=0.916]\n"
     ]
    },
    {
     "name": "stdout",
     "output_type": "stream",
     "text": [
      "Epoch 13, Loss: 0.9157956838607788, Train Accuracy: 67.88194444444444%, Test Accuracy: 50.34722222222222%, Test Loss: 1.4298485385047064\n"
     ]
    },
    {
     "name": "stderr",
     "output_type": "stream",
     "text": [
      "Epoch 14/20: 100%|██████████| 36/36 [00:24<00:00,  1.45it/s, accuracy=68.5, loss=0.89] \n"
     ]
    },
    {
     "name": "stdout",
     "output_type": "stream",
     "text": [
      "Epoch 14, Loss: 0.8900407337480121, Train Accuracy: 68.48958333333333%, Test Accuracy: 51.736111111111114%, Test Loss: 1.463000668419732\n"
     ]
    },
    {
     "name": "stderr",
     "output_type": "stream",
     "text": [
      "Epoch 15/20: 100%|██████████| 36/36 [00:25<00:00,  1.41it/s, accuracy=70.7, loss=0.84] \n"
     ]
    },
    {
     "name": "stdout",
     "output_type": "stream",
     "text": [
      "Epoch 15, Loss: 0.8399834450748231, Train Accuracy: 70.65972222222223%, Test Accuracy: 50.0%, Test Loss: 1.4449123806423612\n"
     ]
    },
    {
     "name": "stderr",
     "output_type": "stream",
     "text": [
      "Epoch 16/20: 100%|██████████| 36/36 [00:25<00:00,  1.41it/s, accuracy=70.8, loss=0.828]\n"
     ]
    },
    {
     "name": "stdout",
     "output_type": "stream",
     "text": [
      "Epoch 16, Loss: 0.8283135112788942, Train Accuracy: 70.83333333333333%, Test Accuracy: 46.52777777777778%, Test Loss: 1.4118742810355291\n"
     ]
    },
    {
     "name": "stderr",
     "output_type": "stream",
     "text": [
      "Epoch 17/20: 100%|██████████| 36/36 [00:24<00:00,  1.46it/s, accuracy=72.9, loss=0.765]\n"
     ]
    },
    {
     "name": "stdout",
     "output_type": "stream",
     "text": [
      "Epoch 17, Loss: 0.7650020437108146, Train Accuracy: 72.91666666666667%, Test Accuracy: 49.65277777777778%, Test Loss: 1.34870183467865\n"
     ]
    },
    {
     "name": "stderr",
     "output_type": "stream",
     "text": [
      "Epoch 18/20: 100%|██████████| 36/36 [00:23<00:00,  1.52it/s, accuracy=76.2, loss=0.708]\n"
     ]
    },
    {
     "name": "stdout",
     "output_type": "stream",
     "text": [
      "Epoch 18, Loss: 0.708487277229627, Train Accuracy: 76.21527777777777%, Test Accuracy: 53.125%, Test Loss: 1.3963413503434923\n"
     ]
    },
    {
     "name": "stderr",
     "output_type": "stream",
     "text": [
      "Epoch 19/20: 100%|██████████| 36/36 [00:23<00:00,  1.56it/s, accuracy=76.2, loss=0.665]\n"
     ]
    },
    {
     "name": "stdout",
     "output_type": "stream",
     "text": [
      "Epoch 19, Loss: 0.6648900417817963, Train Accuracy: 76.21527777777777%, Test Accuracy: 49.65277777777778%, Test Loss: 1.4765086306465998\n"
     ]
    },
    {
     "name": "stderr",
     "output_type": "stream",
     "text": [
      "Epoch 20/20: 100%|██████████| 36/36 [00:22<00:00,  1.61it/s, accuracy=76.5, loss=0.659]\n"
     ]
    },
    {
     "name": "stdout",
     "output_type": "stream",
     "text": [
      "Epoch 20, Loss: 0.6591894866691695, Train Accuracy: 76.47569444444444%, Test Accuracy: 51.388888888888886%, Test Loss: 1.4276693794462416\n"
     ]
    }
   ],
   "source": [
    "criterion = nn.CrossEntropyLoss()\n",
    "optimizer = optim.Adam(model.parameters(), lr=0.001)\n",
    "\n",
    "def evaluate(model, test_loader, criterion):\n",
    "    model.eval()\n",
    "    correct = 0\n",
    "    total = 0\n",
    "    running_loss = 0.0\n",
    "    with torch.no_grad():\n",
    "        for signals, labels in test_loader:\n",
    "            signals = signals.unsqueeze(1).float()  \n",
    "            labels = labels.long()\n",
    "            outputs = model(signals.float())  \n",
    "            loss = criterion(outputs, labels)\n",
    "            running_loss += loss.item()\n",
    "            _, predicted = torch.max(outputs.data, 1)\n",
    "            total += labels.size(0)\n",
    "            correct += (predicted == labels).sum().item()\n",
    "    accuracy = 100 * correct / total\n",
    "    average_loss = running_loss / len(test_loader)\n",
    "    return accuracy, average_loss\n",
    "\n",
    "def train(model, train_loader, test_loader, criterion, optimizer, num_epochs=10, patience=3):\n",
    "    writer = SummaryWriter() \n",
    "    train_losses = []\n",
    "    train_accuracies = []\n",
    "    test_accuracies = []\n",
    "    test_losses = []\n",
    "    best_test_accuracy = 0\n",
    "    patience_counter = 0\n",
    "\n",
    "    for epoch in range(num_epochs):\n",
    "        model.train()\n",
    "        running_loss = 0.0\n",
    "        correct = 0\n",
    "        total = 0\n",
    "\n",
    "        progress_bar = tqdm(enumerate(train_loader), total=len(train_loader), desc=f\"Epoch {epoch+1}/{num_epochs}\")\n",
    "\n",
    "        for i, (signals, labels) in progress_bar:\n",
    "            signals = signals.unsqueeze(1).float() \n",
    "            labels = labels.long()\n",
    "\n",
    "            optimizer.zero_grad()\n",
    "            outputs = model(signals.float()) \n",
    "            loss = criterion(outputs, labels)\n",
    "            loss.backward()\n",
    "            optimizer.step()\n",
    "\n",
    "            running_loss += loss.item()\n",
    "\n",
    "            _, predicted = torch.max(outputs.data, 1)\n",
    "            total += labels.size(0)\n",
    "            correct += (predicted == labels).sum().item()\n",
    "\n",
    "            progress_bar.set_postfix(loss=running_loss / (i + 1), accuracy=100 * correct / total)\n",
    "\n",
    "        train_loss = running_loss / len(train_loader)\n",
    "        train_accuracy = 100 * correct / total\n",
    "\n",
    "        train_losses.append(train_loss)\n",
    "        train_accuracies.append(train_accuracy)\n",
    "\n",
    "        test_accuracy, test_loss = evaluate(model, test_loader, criterion)\n",
    "        test_accuracies.append(test_accuracy)\n",
    "        test_losses.append(test_loss)\n",
    "\n",
    "        print(f\"Epoch {epoch+1}, Loss: {train_loss}, Train Accuracy: {train_accuracy}%, Test Accuracy: {test_accuracy}%, Test Loss: {test_loss}\")\n",
    "\n",
    "        writer.add_scalar('Loss/train', train_loss, epoch)\n",
    "        writer.add_scalar('Loss/test', test_loss, epoch)\n",
    "        writer.add_scalar('Accuracy/train', train_accuracy, epoch)\n",
    "        writer.add_scalar('Accuracy/test', test_accuracy, epoch)\n",
    "\n",
    "        # Early stopping\n",
    "        if test_accuracy > best_test_accuracy:\n",
    "            best_test_accuracy = test_accuracy\n",
    "            patience_counter = 0\n",
    "        else:\n",
    "            patience_counter += 1\n",
    "        \n",
    "        if patience_counter >= patience:\n",
    "            print(f\"Early stopping at epoch {epoch+1}\")\n",
    "            break\n",
    "\n",
    "    writer.close()\n",
    "    return train_losses, train_accuracies, test_accuracies, test_losses\n",
    "\n",
    "train_losses, train_accuracies, test_accuracies, test_losses = train(model, train_loader, test_loader, criterion, optimizer, num_epochs=20, patience=5)"
   ]
  },
  {
   "cell_type": "code",
   "execution_count": 6,
   "id": "8ffcedd9-ed69-4472-877c-4e28d9652621",
   "metadata": {},
   "outputs": [
    {
     "data": {
      "image/png": "[encoded data removed]",
      "text/plain": [
       "<Figure size 1000x500 with 2 Axes>"
      ]
     },
     "metadata": {},
     "output_type": "display_data"
    }
   ],
   "source": [
    "import matplotlib.pyplot as plt\n",
    "\n",
    "plt.figure(figsize=(10, 5))\n",
    "\n",
    "plt.subplot(1, 2, 1)\n",
    "plt.plot(train_accuracies, label='Train Accuracy')\n",
    "plt.plot(test_accuracies, label='Test Accuracy')\n",
    "plt.title('Model Accuracy')\n",
    "plt.ylabel('Accuracy')\n",
    "plt.xlabel('Epoch')\n",
    "plt.legend(loc='upper left')\n",
    "\n",
    "plt.subplot(1, 2, 2)\n",
    "plt.plot(train_losses, label='Train Loss')\n",
    "plt.plot(test_losses, label='Test Loss')\n",
    "plt.title('Model Loss')\n",
    "plt.ylabel('Loss')\n",
    "plt.xlabel('Epoch')\n",
    "plt.legend(loc='upper right')\n",
    "\n",
    "plt.tight_layout()\n",
    "plt.show()\n"
   ]
  },
  {
   "cell_type": "code",
   "execution_count": 7,
   "id": "1c34bfa0-5bdd-4afb-9d91-cb4b749e4cea",
   "metadata": {},
   "outputs": [],
   "source": [
    "# Save the model\n",
    "model_save_path = \"Desktop/emotion_cnn_model.pth\"\n",
    "torch.save(model.state_dict(), model_save_path)"
   ]
  },
  {
   "cell_type": "code",
   "execution_count": null,
   "id": "ba7e1024-0fdc-4bc0-ad6b-1a8785730dd6",
   "metadata": {},
   "outputs": [],
   "source": []
  }
 ],
 "metadata": {
  "kernelspec": {
   "display_name": "Python 3 (ipykernel)",
   "language": "python",
   "name": "python3"
  },
  "language_info": {
   "codemirror_mode": {
    "name": "ipython",
    "version": 3
   },
   "file_extension": ".py",
   "mimetype": "text/x-python",
   "name": "python",
   "nbconvert_exporter": "python",
   "pygments_lexer": "ipython3",
   "version": "3.8.19"
  }
 },
 "nbformat": 4,
 "nbformat_minor": 5
}
